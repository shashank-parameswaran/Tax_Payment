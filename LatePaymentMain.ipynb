{
 "cells": [
  {
   "cell_type": "markdown",
   "id": "bc059a96",
   "metadata": {
    "execution": {
     "iopub.execute_input": "2023-07-26T17:26:48.540336Z",
     "iopub.status.busy": "2023-07-26T17:26:48.539802Z",
     "iopub.status.idle": "2023-07-26T17:26:48.544944Z",
     "shell.execute_reply": "2023-07-26T17:26:48.544085Z",
     "shell.execute_reply.started": "2023-07-26T17:26:48.540303Z"
    }
   },
   "source": [
    "# Late Payment Classifier Model"
   ]
  },
  {
   "cell_type": "markdown",
   "id": "7b48594e",
   "metadata": {},
   "source": [
    "**Name:** Classification for Late Payment of Property Tax Payers   \n",
    "**Last Modified Date:** Jul 27, 2023   \n",
    "**Authors:** Shashank Parameswaran, Tinh Cao, Chris Chen, Sohail Syed, Zainab Hasnain    \n",
    "**Organization:** Illinois Institute of Technology   \n",
    "(C) All Rights Reserved"
   ]
  },
  {
   "cell_type": "code",
   "execution_count": 1,
   "id": "fb1378fb",
   "metadata": {
    "execution": {
     "iopub.execute_input": "2023-07-27T23:34:07.407376Z",
     "iopub.status.busy": "2023-07-27T23:34:07.407257Z",
     "iopub.status.idle": "2023-07-27T23:34:11.146482Z",
     "shell.execute_reply": "2023-07-27T23:34:11.146039Z",
     "shell.execute_reply.started": "2023-07-27T23:34:07.407364Z"
    }
   },
   "outputs": [
    {
     "name": "stderr",
     "output_type": "stream",
     "text": [
      "Setting default log level to \"WARN\".\n",
      "To adjust logging level use sc.setLogLevel(newLevel). For SparkR, use setLogLevel(newLevel).\n",
      "23/07/27 18:34:10 WARN NativeCodeLoader: Unable to load native-hadoop library for your platform... using builtin-java classes where applicable\n"
     ]
    },
    {
     "data": {
      "text/html": [
       "<style>pre { white-space: pre !important; }</style>"
      ],
      "text/plain": [
       "<IPython.core.display.HTML object>"
      ]
     },
     "metadata": {},
     "output_type": "display_data"
    }
   ],
   "source": [
    "# Import the LatePaymentClassifier module\n",
    "from LatePaymentPackage import LatePaymentClassifier"
   ]
  },
  {
   "cell_type": "code",
   "execution_count": 2,
   "id": "10b12253",
   "metadata": {
    "execution": {
     "iopub.execute_input": "2023-07-27T23:34:11.147565Z",
     "iopub.status.busy": "2023-07-27T23:34:11.147259Z",
     "iopub.status.idle": "2023-07-27T23:34:11.149854Z",
     "shell.execute_reply": "2023-07-27T23:34:11.149564Z",
     "shell.execute_reply.started": "2023-07-27T23:34:11.147551Z"
    }
   },
   "outputs": [],
   "source": [
    "# Set your dataset directory here\n",
    "# If you have your datasets in different folders, you can skip this cell and enter the directories in the below cell manually for each file\n",
    "datasetDirectory = \"yourDatasetDirectory/Datasets/\""
   ]
  },
  {
   "cell_type": "code",
   "execution_count": 3,
   "id": "112da092",
   "metadata": {
    "execution": {
     "iopub.execute_input": "2023-07-27T23:34:11.152033Z",
     "iopub.status.busy": "2023-07-27T23:34:11.151928Z",
     "iopub.status.idle": "2023-07-27T23:34:11.499576Z",
     "shell.execute_reply": "2023-07-27T23:34:11.499160Z",
     "shell.execute_reply.started": "2023-07-27T23:34:11.152022Z"
    }
   },
   "outputs": [],
   "source": [
    "# Initialize the object with the file names\n",
    "# If your datasets are in different categories, provide the path directly seperated by / for each of the below files\n",
    "# if you need predictions for 2022, file1 should start from 2018\n",
    "# similarly, next year, when you need predictions for 2023, file1 should start from 2019\n",
    "\n",
    "lpc = LatePaymentClassifier(\n",
    "                         file1 = datasetDirectory+\"2018.rpt\", # Year1 Property Master data-\"Directory/Datasets/2017.rpt\n",
    "                         file2 = datasetDirectory+\"2019.rpt\", # Year2 Property Master data\n",
    "                         file3 = datasetDirectory+\"2020.rpt\", # Year3 Property Master data\n",
    "                         file4 = datasetDirectory+\"2021.rpt\", # Year4 Property Master data\n",
    "                         fileCurrentYear = datasetDirectory+\"2022.rpt\", # Current Year data - to be predicted\n",
    "                         fileHeader = datasetDirectory+\"Header.rpt\",  # Header file for property master\n",
    "                         fileDueDates = datasetDirectory+\"InstDates.csv\", # Updated Tax Due dates csv file\n",
    "                         pmtFile1 = datasetDirectory+\"TY2018.rpt\", # Year1 Payment Master data\n",
    "                         pmtFile2 = datasetDirectory+\"TY2019.rpt\", # Year2 Payment Master data\n",
    "                         pmtFile3 = datasetDirectory+\"TY2020.rpt\", # Year3 Payment Master data\n",
    "                         pmtFile4 = datasetDirectory+\"TY2021.rpt\", # Year4 Payment Master data\n",
    "                         pmtCurrentYear = datasetDirectory+\"TY2022.rpt\", # Current Year payment master data\n",
    "                         currentYear = 2022 # Enter the current year, ie, TaxYear for which you need the predictions\n",
    "                         )\n"
   ]
  },
  {
   "cell_type": "code",
   "execution_count": 4,
   "id": "85674b08",
   "metadata": {
    "execution": {
     "iopub.execute_input": "2023-07-27T23:34:11.503102Z",
     "iopub.status.busy": "2023-07-27T23:34:11.502975Z",
     "iopub.status.idle": "2023-07-27T23:48:52.541410Z",
     "shell.execute_reply": "2023-07-27T23:48:52.541048Z",
     "shell.execute_reply.started": "2023-07-27T23:34:11.503090Z"
    }
   },
   "outputs": [
    {
     "name": "stdout",
     "output_type": "stream",
     "text": [
      "Reading Data.....\n"
     ]
    },
    {
     "name": "stderr",
     "output_type": "stream",
     "text": [
      "                                                                                \r"
     ]
    },
    {
     "name": "stdout",
     "output_type": "stream",
     "text": [
      "Initial property master dataset size: [9325560, 81]\n",
      "Running simple transformations.....\n"
     ]
    },
    {
     "name": "stderr",
     "output_type": "stream",
     "text": [
      "                                                                                \r"
     ]
    },
    {
     "name": "stdout",
     "output_type": "stream",
     "text": [
      "Dataset size after simple transformation: [4365468, 37]\n",
      "Running WOE transformations.....\n"
     ]
    },
    {
     "name": "stderr",
     "output_type": "stream",
     "text": [
      "                                                                                \r"
     ]
    },
    {
     "name": "stdout",
     "output_type": "stream",
     "text": [
      "Dataset size after WOE Transformation: [4365468, 37]\n",
      "Running window transformations.....\n"
     ]
    },
    {
     "name": "stderr",
     "output_type": "stream",
     "text": [
      "                                                                                \r"
     ]
    },
    {
     "name": "stdout",
     "output_type": "stream",
     "text": [
      "Dataset size after window transformation: [4365468, 40]\n",
      "Running few other transformations.....\n"
     ]
    },
    {
     "name": "stderr",
     "output_type": "stream",
     "text": [
      "                                                                                \r"
     ]
    },
    {
     "name": "stdout",
     "output_type": "stream",
     "text": [
      "Dataset size for model building: [4365468, 29]\n",
      "Splitting into train and test data.....\n"
     ]
    },
    {
     "name": "stderr",
     "output_type": "stream",
     "text": [
      "                                                                                \r"
     ]
    },
    {
     "name": "stdout",
     "output_type": "stream",
     "text": [
      "Dataset size for training: [3434062, 29]\n"
     ]
    },
    {
     "name": "stderr",
     "output_type": "stream",
     "text": [
      "                                                                                \r"
     ]
    },
    {
     "name": "stdout",
     "output_type": "stream",
     "text": [
      "Dataset size for testing: [931406, 29]\n",
      "Fitting the model.....\n"
     ]
    },
    {
     "name": "stderr",
     "output_type": "stream",
     "text": [
      "                                                                                \r"
     ]
    },
    {
     "name": "stdout",
     "output_type": "stream",
     "text": [
      "Retreiving the most important features.....\n",
      "Model has been executed!\n"
     ]
    }
   ],
   "source": [
    "# Run Data Transformation and Model\n",
    "lpc.readData()\n",
    "lpc.simpleTransform()\n",
    "lpc.woeTransform()\n",
    "lpc.windowTransform()\n",
    "lpc.otherTransform()\n",
    "lpc.trainTestSplit()\n",
    "lpc.fit()\n",
    "lpc.getFeatureImportance()\n",
    "print(\"Model has been executed!\")"
   ]
  },
  {
   "cell_type": "markdown",
   "id": "aef13040",
   "metadata": {},
   "source": [
    "# Output\n",
    "- Export predictions to CSV\n",
    "- Enter the directory where the CSV file should be created with the path seperated by /"
   ]
  },
  {
   "cell_type": "code",
   "execution_count": null,
   "id": "af55b850",
   "metadata": {},
   "outputs": [],
   "source": [
    "lpc.exportToCSV(\"yourDirectory/Predictions.csv\")"
   ]
  },
  {
   "cell_type": "markdown",
   "id": "b016cff7",
   "metadata": {},
   "source": [
    "# Other Actions\n",
    "**Note:**\n",
    "- Shows the results - Accuracy, F1 Score, Recall and Precision\n",
    "- These commands only work when you provide fileCurrentYear with the updated LastPaymentDate2 dates for installment 2\n",
    "- These commands can be used next year to evaluate the model and compare the results. For the current year, we have already provided the results in the deck\n",
    "- While running these commands next year (ie, when you have the updated LastPaymentDate2 field for 2022 TaxYear), file 1 should start from 2018"
   ]
  },
  {
   "cell_type": "code",
   "execution_count": null,
   "id": "36ce8bd4",
   "metadata": {},
   "outputs": [],
   "source": [
    "lpc.getResults()\n",
    "lpc.results"
   ]
  },
  {
   "cell_type": "code",
   "execution_count": 7,
   "id": "d9206abc",
   "metadata": {
    "execution": {
     "iopub.execute_input": "2023-07-27T19:53:47.700833Z",
     "iopub.status.busy": "2023-07-27T19:53:47.700682Z",
     "iopub.status.idle": "2023-07-27T19:53:47.826215Z",
     "shell.execute_reply": "2023-07-27T19:53:47.825868Z",
     "shell.execute_reply.started": "2023-07-27T19:53:47.700822Z"
    }
   },
   "outputs": [
    {
     "data": {
      "image/png": "[encoded data removed]",
      "text/plain": [
       "<Figure size 864x360 with 2 Axes>"
      ]
     },
     "metadata": {
      "needs_background": "light"
     },
     "output_type": "display_data"
    }
   ],
   "source": [
    "# Plot the Gain Lift chart\n",
    "lpc.getGainLiftChart()\n",
    "lpc.plotGainLiftChart()"
   ]
  }
 ],
 "metadata": {
  "kernelspec": {
   "display_name": "Python 3 (ipykernel)",
   "language": "python",
   "name": "python3"
  },
  "language_info": {
   "codemirror_mode": {
    "name": "ipython",
    "version": 3
   },
   "file_extension": ".py",
   "mimetype": "text/x-python",
   "name": "python",
   "nbconvert_exporter": "python",
   "pygments_lexer": "ipython3",
   "version": "3.11.4"
  },
  "toc": {
   "base_numbering": 1,
   "nav_menu": {},
   "number_sections": true,
   "sideBar": true,
   "skip_h1_title": false,
   "title_cell": "Table of Contents",
   "title_sidebar": "Contents",
   "toc_cell": false,
   "toc_position": {},
   "toc_section_display": true,
   "toc_window_display": false
  },
  "varInspector": {
   "cols": {
    "lenName": 16,
    "lenType": 16,
    "lenVar": 40
   },
   "kernels_config": {
    "python": {
     "delete_cmd_postfix": "",
     "delete_cmd_prefix": "del ",
     "library": "var_list.py",
     "varRefreshCmd": "print(var_dic_list())"
    },
    "r": {
     "delete_cmd_postfix": ") ",
     "delete_cmd_prefix": "rm(",
     "library": "var_list.r",
     "varRefreshCmd": "cat(var_dic_list()) "
    }
   },
   "types_to_exclude": [
    "module",
    "function",
    "builtin_function_or_method",
    "instance",
    "_Feature"
   ],
   "window_display": false
  }
 },
 "nbformat": 4,
 "nbformat_minor": 5
}
